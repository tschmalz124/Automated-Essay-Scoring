{
 "cells": [
  {
   "cell_type": "code",
   "execution_count": 1,
   "metadata": {},
   "outputs": [],
   "source": [
    "import pandas as pd\n",
    "import matplotlib.pyplot as plt\n",
    "import seaborn as sns\n",
    "\n",
    "%matplotlib inline"
   ]
  },
  {
   "cell_type": "code",
   "execution_count": 2,
   "metadata": {},
   "outputs": [],
   "source": [
    "#Loading predictions and original scores from both models\n",
    "single_scaler = pd.read_csv('..\\data\\interim\\single_scaler_results.csv', index_col=0)\n",
    "essay_dependent_scaler = pd.read_csv('..\\data\\interim\\essay_dependent_scaler_results.csv', index_col=0)"
   ]
  },
  {
   "cell_type": "code",
   "execution_count": 3,
   "metadata": {},
   "outputs": [],
   "source": [
    "#Creating residual columns\n",
    "single_scaler['residuals_scaled'] = single_scaler.orig_scaled - single_scaler.pred_scaled\n",
    "single_scaler['residuals_unscaled'] = single_scaler.orig_unscaled - single_scaler.pred_unscaled\n",
    "\n",
    "essay_dependent_scaler['residuals_scaled'] = essay_dependent_scaler.orig_scaled - essay_dependent_scaler.pred_scaled\n",
    "essay_dependent_scaler['residuals_unscaled'] = essay_dependent_scaler.orig_unscaled - essay_dependent_scaler.pred_unscaled"
   ]
  },
  {
   "cell_type": "code",
   "execution_count": 7,
   "metadata": {
    "scrolled": true
   },
   "outputs": [
    {
     "name": "stdout",
     "output_type": "stream",
     "text": [
      "<class 'pandas.core.frame.DataFrame'>\n",
      "Int64Index: 3244 entries, 6970 to 996\n",
      "Data columns (total 7 columns):\n",
      "essay_set             3244 non-null int64\n",
      "pred_scaled           3244 non-null float64\n",
      "pred_unscaled         3244 non-null float64\n",
      "orig_scaled           3244 non-null float64\n",
      "orig_unscaled         3244 non-null float64\n",
      "residuals_scaled      3244 non-null float64\n",
      "residuals_unscaled    3244 non-null float64\n",
      "dtypes: float64(6), int64(1)\n",
      "memory usage: 362.8 KB\n"
     ]
    }
   ],
   "source": [
    "single_scaler.info()"
   ]
  },
  {
   "cell_type": "code",
   "execution_count": 5,
   "metadata": {},
   "outputs": [
    {
     "name": "stdout",
     "output_type": "stream",
     "text": [
      "<class 'pandas.core.frame.DataFrame'>\n",
      "Int64Index: 3244 entries, 6970 to 996\n",
      "Data columns (total 7 columns):\n",
      "essay_set             3244 non-null int64\n",
      "pred_scaled           3244 non-null float64\n",
      "pred_unscaled         3244 non-null float64\n",
      "orig_scaled           3244 non-null float64\n",
      "orig_unscaled         3244 non-null float64\n",
      "residuals_scaled      3244 non-null float64\n",
      "residuals_unscaled    3244 non-null float64\n",
      "dtypes: float64(6), int64(1)\n",
      "memory usage: 202.8 KB\n"
     ]
    }
   ],
   "source": [
    "essay_dependent_scaler.info()"
   ]
  },
  {
   "cell_type": "code",
   "execution_count": null,
   "metadata": {},
   "outputs": [],
   "source": [
    "sns.scatterplot(x='orig_unscaled', y='pred_unscaled', data=single_scaler, \n",
    "                hue='essay_set', legend='full', palette = sns.color_palette('Set1', n_colors=8))\n",
    "plt.legend(bbox_to_anchor=(1.05, 1), loc=2, borderaxespad=0.)\n",
    "plt.xlabel('Original Scores\\n(scaled)')\n",
    "plt.ylabel('Residuals\\n(scaled)')\n",
    "plt.title('Single-scaler Model')\n",
    "plt.savefig('figures/single_residuals.png', bbox_inches='tight')"
   ]
  },
  {
   "cell_type": "code",
   "execution_count": null,
   "metadata": {},
   "outputs": [],
   "source": [
    "sns.scatterplot(x='orig_unscaled', y='pred_unscaled', data=essay_dependent_scaler, \n",
    "                hue='essay_set', legend='full', palette = sns.color_palette('Set1', n_colors=8))\n",
    "plt.legend(bbox_to_anchor=(1.05, 1), loc=2, borderaxespad=0.)\n",
    "plt.xlabel('Original Scores\\n(scaled)')\n",
    "plt.ylabel('Residuals\\n(scaled)')\n",
    "plt.title('Essay-dependent scaler Model')\n",
    "plt.savefig('figures/dependent_residuals.png', bbox_inches='tight')"
   ]
  },
  {
   "cell_type": "code",
   "execution_count": 9,
   "metadata": {},
   "outputs": [],
   "source": [
    "max_essay_score = {1:12, 2:6, 3:3, 4:3, 5:4, 6:4, 7:30, 8:60}\n",
    "\n",
    "def within_percent(row,percent):\n",
    "    essay_set = row.essay_set\n",
    "    max_score = max_essay_score[essay_set]\n",
    "\n",
    "    actual = row.orig_unscaled\n",
    "    prediction = row.pred_unscaled\n",
    "    \n",
    "    if abs(actual-prediction)<percent/100*max_score:\n",
    "        return 1\n",
    "    else:\n",
    "        return 0\n",
    "    "
   ]
  },
  {
   "cell_type": "code",
   "execution_count": 10,
   "metadata": {},
   "outputs": [],
   "source": [
    "percent=20\n",
    "single_scaler['within'] = single_scaler.apply(within_percent, percent=percent, axis=1)\n",
    "essay_dependent_scaler['within'] = essay_dependent_scaler.apply(within_percent, percent=percent, axis=1)"
   ]
  },
  {
   "cell_type": "code",
   "execution_count": 6,
   "metadata": {},
   "outputs": [
    {
     "ename": "AttributeError",
     "evalue": "'DataFrame' object has no attribute 'within'",
     "output_type": "error",
     "traceback": [
      "\u001b[1;31m---------------------------------------------------------------------------\u001b[0m",
      "\u001b[1;31mAttributeError\u001b[0m                            Traceback (most recent call last)",
      "\u001b[1;32m<ipython-input-6-a5e9abd7b791>\u001b[0m in \u001b[0;36m<module>\u001b[1;34m\u001b[0m\n\u001b[1;32m----> 1\u001b[1;33m \u001b[0msingle_scaler\u001b[0m\u001b[1;33m.\u001b[0m\u001b[0mgroupby\u001b[0m\u001b[1;33m(\u001b[0m\u001b[1;34m'essay_set'\u001b[0m\u001b[1;33m)\u001b[0m\u001b[1;33m.\u001b[0m\u001b[0mmean\u001b[0m\u001b[1;33m(\u001b[0m\u001b[1;33m)\u001b[0m\u001b[1;33m.\u001b[0m\u001b[0mwithin\u001b[0m\u001b[1;33m\u001b[0m\u001b[1;33m\u001b[0m\u001b[0m\n\u001b[0m",
      "\u001b[1;32m~\\Anaconda3\\lib\\site-packages\\pandas\\core\\generic.py\u001b[0m in \u001b[0;36m__getattr__\u001b[1;34m(self, name)\u001b[0m\n\u001b[0;32m   4374\u001b[0m             \u001b[1;32mif\u001b[0m \u001b[0mself\u001b[0m\u001b[1;33m.\u001b[0m\u001b[0m_info_axis\u001b[0m\u001b[1;33m.\u001b[0m\u001b[0m_can_hold_identifiers_and_holds_name\u001b[0m\u001b[1;33m(\u001b[0m\u001b[0mname\u001b[0m\u001b[1;33m)\u001b[0m\u001b[1;33m:\u001b[0m\u001b[1;33m\u001b[0m\u001b[1;33m\u001b[0m\u001b[0m\n\u001b[0;32m   4375\u001b[0m                 \u001b[1;32mreturn\u001b[0m \u001b[0mself\u001b[0m\u001b[1;33m[\u001b[0m\u001b[0mname\u001b[0m\u001b[1;33m]\u001b[0m\u001b[1;33m\u001b[0m\u001b[1;33m\u001b[0m\u001b[0m\n\u001b[1;32m-> 4376\u001b[1;33m             \u001b[1;32mreturn\u001b[0m \u001b[0mobject\u001b[0m\u001b[1;33m.\u001b[0m\u001b[0m__getattribute__\u001b[0m\u001b[1;33m(\u001b[0m\u001b[0mself\u001b[0m\u001b[1;33m,\u001b[0m \u001b[0mname\u001b[0m\u001b[1;33m)\u001b[0m\u001b[1;33m\u001b[0m\u001b[1;33m\u001b[0m\u001b[0m\n\u001b[0m\u001b[0;32m   4377\u001b[0m \u001b[1;33m\u001b[0m\u001b[0m\n\u001b[0;32m   4378\u001b[0m     \u001b[1;32mdef\u001b[0m \u001b[0m__setattr__\u001b[0m\u001b[1;33m(\u001b[0m\u001b[0mself\u001b[0m\u001b[1;33m,\u001b[0m \u001b[0mname\u001b[0m\u001b[1;33m,\u001b[0m \u001b[0mvalue\u001b[0m\u001b[1;33m)\u001b[0m\u001b[1;33m:\u001b[0m\u001b[1;33m\u001b[0m\u001b[1;33m\u001b[0m\u001b[0m\n",
      "\u001b[1;31mAttributeError\u001b[0m: 'DataFrame' object has no attribute 'within'"
     ]
    }
   ],
   "source": [
    "single_scaler.groupby('essay_set').mean().within"
   ]
  },
  {
   "cell_type": "code",
   "execution_count": null,
   "metadata": {},
   "outputs": [],
   "source": [
    "essay_dependent_scaler.groupby('essay_set').mean().within"
   ]
  },
  {
   "cell_type": "code",
   "execution_count": null,
   "metadata": {},
   "outputs": [],
   "source": [
    "single_scaler.describe()"
   ]
  },
  {
   "cell_type": "code",
   "execution_count": null,
   "metadata": {},
   "outputs": [],
   "source": [
    "essay_dependent_scaler.describe()"
   ]
  },
  {
   "cell_type": "code",
   "execution_count": null,
   "metadata": {},
   "outputs": [],
   "source": [
    "max_essay_score = {1:12, 2:6, 3:3, 4:3, 5:4, 6:4, 7:30, 8:60}\n",
    "\n",
    "def outside_percent(row,percent):\n",
    "    essay_set = row.essay_set\n",
    "    max_score = max_essay_score[essay_set]\n",
    "    \n",
    "    actual = row.orig_unscaled\n",
    "    prediction = row.pred_unscaled\n",
    "    \n",
    "    if abs(actual-prediction)>percent/100*max_score:\n",
    "        return 1\n",
    "    else:\n",
    "        return 0\n",
    "    \n",
    "percent=20\n",
    "single_scaler['outside'] = single_scaler.apply(outside_percent, percent=percent, axis=1)\n",
    "essay_dependent_scaler['outside'] = essay_dependent_scaler.apply(outside_percent, percent=percent, axis=1)"
   ]
  }
 ],
 "metadata": {
  "kernelspec": {
   "display_name": "Python 3",
   "language": "python",
   "name": "python3"
  },
  "language_info": {
   "codemirror_mode": {
    "name": "ipython",
    "version": 3
   },
   "file_extension": ".py",
   "mimetype": "text/x-python",
   "name": "python",
   "nbconvert_exporter": "python",
   "pygments_lexer": "ipython3",
   "version": "3.6.8"
  }
 },
 "nbformat": 4,
 "nbformat_minor": 2
}
